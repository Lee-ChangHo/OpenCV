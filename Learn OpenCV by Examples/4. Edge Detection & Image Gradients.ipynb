{
 "cells": [
  {
   "cell_type": "code",
   "execution_count": null,
   "id": "e8deff17",
   "metadata": {},
   "outputs": [],
   "source": [
    "### 4. Edge Detection & Image Gradients.\n",
    "### 4.에지 감지 및 이미지 구배\n",
    "\n",
    "import numpy as np\n",
    "import matplotlib.pyplot as plt\n",
    "import cv2\n",
    "\n",
    "image = cv2.imread('../Examples/fruits.jpg')\n",
    "image = cv2.cvtColor(image, cv2.COLOR_BGR2RGB)\n",
    "\n",
    "height, width,_ = image.shape\n",
    "\n",
    "# 바닥 모서리 추출\n",
    "sobel_x = cv2.Sobel(image, cv2.CV_64F, 0, 1, ksize = 5)\n",
    "sobel_y = cv2.Sobel(image, cv2.CV_64F, 1, 0, ksize = 5)\n",
    "\n",
    "plt.figure(figsize=(20,20))\n",
    "\n",
    "plt.subplot(3,2,1)\n",
    "plt.title(\"Original\")\n",
    "plt.imshow(image)\n",
    "\n",
    "plt.subplot(3,2,2)\n",
    "plt.title(\"Sobel X\")\n",
    "plt.imshow(sobel_x)\n",
    "\n",
    "plt.subplot(3,2,3)\n",
    "plt.title(\"Sobel Y\")\n",
    "plt.imshow(sobel_y)\n",
    "\n",
    "sobel_OR = cv2.bitwise_or(sobel_x, sobel_y)  # sobel_x와 sobel_y의 이미지를 더함(OR)\n",
    "\n",
    "plt.subplot(3,2,4)\n",
    "plt.title(\"Sobel_OR\")\n",
    "plt.imshow(sobel_OR)\n",
    "\n",
    "# 라플라스 필터링(라플라시안)\n",
    "laplacian = cv2.Laplacian(image, cv2.CV_64F) # 라플라스 연산을 적용한 필터\n",
    "\n",
    "plt.subplot(3,2,5)\n",
    "plt.title(\"Laplacian\")\n",
    "plt.imshow(laplacian)"
   ]
  }
 ],
 "metadata": {
  "kernelspec": {
   "display_name": "Python 3 (ipykernel)",
   "language": "python",
   "name": "python3"
  },
  "language_info": {
   "codemirror_mode": {
    "name": "ipython",
    "version": 3
   },
   "file_extension": ".py",
   "mimetype": "text/x-python",
   "name": "python",
   "nbconvert_exporter": "python",
   "pygments_lexer": "ipython3",
   "version": "3.7.16"
  }
 },
 "nbformat": 4,
 "nbformat_minor": 5
}
