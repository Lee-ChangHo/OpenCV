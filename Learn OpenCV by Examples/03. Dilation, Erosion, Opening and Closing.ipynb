{
 "cells": [
  {
   "cell_type": "code",
   "execution_count": null,
   "id": "6ba30f47",
   "metadata": {},
   "outputs": [],
   "source": [
    "### 3.Dilation, Erosion, Opening and Closing\n",
    "### 3.팽창, 침식, 개폐\n",
    "\n",
    "import numpy as np\n",
    "import matplotlib.pyplot as plt\n",
    "import cv2\n",
    "\n",
    "image = cv2.imread('../Examples/LinuxLogo.jpg')\n",
    "image = cv2.cvtColor(image, cv2.COLOR_BGR2RGB)     # 색변환 함수\n",
    "\n",
    "plt.figure(figsize=(20,20))\n",
    "plt.subplot(3,2,1)\n",
    "plt.title('Original')\n",
    "plt.imshow(image)\n",
    "\n",
    "# 커널 사이즈 정의\n",
    "kernel = np.ones((5,5), np.uint8)\n",
    "\n",
    "# 침식\n",
    "erosion = cv2.erode(image, kernel, iterations = 1)\n",
    "\n",
    "plt.subplot(3,2,2)\n",
    "plt.title(\"Erosion\")\n",
    "plt.imshow(erosion)\n",
    "\n",
    "# 팽창\n",
    "dilation = cv2.dilate(image, kernel, iterations = 1)\n",
    "plt.subplot(3,2,3)\n",
    "plt.title(\"Dilation\")\n",
    "plt.imshow(dilation)\n",
    "\n",
    "# 개폐\n",
    "# Opening - Good for removing noise\n",
    "opening = cv2.morphologyEx(image, cv2.MORPH_OPEN, kernel)\n",
    "plt.subplot(3,2,4)\n",
    "plt.title(\"Opening\")\n",
    "plt.imshow(opening)\n",
    "\n",
    "# Closing - Good for removing noise\n",
    "closing = cv2.morphologyEx(image, cv2.MORPH_CLOSE, kernel)\n",
    "plt.subplot(3,2,5)\n",
    "plt.title(\"Closing\")\n",
    "plt.imshow(closing)"
   ]
  }
 ],
 "metadata": {
  "kernelspec": {
   "display_name": "Python 3 (ipykernel)",
   "language": "python",
   "name": "python3"
  },
  "language_info": {
   "codemirror_mode": {
    "name": "ipython",
    "version": 3
   },
   "file_extension": ".py",
   "mimetype": "text/x-python",
   "name": "python",
   "nbconvert_exporter": "python",
   "pygments_lexer": "ipython3",
   "version": "3.7.16"
  }
 },
 "nbformat": 4,
 "nbformat_minor": 5
}
